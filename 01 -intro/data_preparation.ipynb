{
 "cells": [
  {
   "cell_type": "code",
   "execution_count": 3,
   "id": "3b900f4e",
   "metadata": {},
   "outputs": [
    {
     "name": "stdout",
     "output_type": "stream",
     "text": [
      "CSV file 'us_taxi_jan_feb.csv' created successfully with 1000 records.\n"
     ]
    }
   ],
   "source": [
    "# Training data preparation\n",
    "import pandas as pd\n",
    "import numpy as np\n",
    "from datetime import datetime, timedelta\n",
    "import random\n",
    "\n",
    "# Generate random taxi data\n",
    "def generate_taxi_data(start_date, end_date, n=500):\n",
    "    data = []\n",
    "    current_date = start_date\n",
    "    \n",
    "    for _ in range(n):\n",
    "        # Random pickup time between start and end date\n",
    "        pickup_time = current_date + timedelta(\n",
    "            seconds=random.randint(0, int((end_date - start_date).total_seconds()))\n",
    "        )\n",
    "        # Trip duration 5–60 min\n",
    "        dropoff_time = pickup_time + timedelta(minutes=random.randint(5, 60))\n",
    "        \n",
    "        # Random locations (NYC-like lat/longs)\n",
    "        pickup_lat = round(random.uniform(40.6, 40.9), 6)\n",
    "        pickup_long = round(random.uniform(-74.05, -73.75), 6)\n",
    "        dropoff_lat = round(random.uniform(40.6, 40.9), 6)\n",
    "        dropoff_long = round(random.uniform(-74.05, -73.75), 6)\n",
    "        \n",
    "        passenger_count = random.randint(1, 4)\n",
    "        trip_distance = round(random.uniform(1, 20), 2)\n",
    "        fare_amount = round(2.5 + trip_distance * random.uniform(2, 4), 2)\n",
    "        \n",
    "        data.append([\n",
    "            pickup_time, dropoff_time, pickup_long, pickup_lat,\n",
    "            dropoff_long, dropoff_lat, passenger_count,\n",
    "            trip_distance, fare_amount\n",
    "        ])\n",
    "    \n",
    "    return pd.DataFrame(data, columns=[\n",
    "        \"pickup_datetime\", \"dropoff_datetime\", \"pickup_longitude\", \"pickup_latitude\",\n",
    "        \"dropoff_longitude\", \"dropoff_latitude\", \"passenger_count\",\n",
    "        \"trip_distance\", \"fare_amount\"\n",
    "    ])\n",
    "\n",
    "# January and February 2025\n",
    "jan_data = generate_taxi_data(datetime(2025,1,1), datetime(2025,1,31,23,59,59), n=500)\n",
    "feb_data = generate_taxi_data(datetime(2025,2,1), datetime(2025,2,28,23,59,59), n=500)\n",
    "\n",
    "# Combine and save\n",
    "taxi_data = pd.concat([jan_data, feb_data])\n",
    "taxi_data.to_csv(\"us_taxi_jan_feb.csv\", index=False)\n",
    "\n",
    "print(\"CSV file 'us_taxi_jan_feb.csv' created successfully with\", len(taxi_data), \"records.\")\n"
   ]
  },
  {
   "cell_type": "code",
   "execution_count": 4,
   "id": "941e37af",
   "metadata": {},
   "outputs": [],
   "source": [
    "# March data for prediction (no fare_amount, since that's what we want to predict)\n",
    "def generate_march_data(start_date, end_date, n=200):\n",
    "    data = []\n",
    "    for _ in range(n):\n",
    "        pickup_time = start_date + timedelta(\n",
    "            seconds=random.randint(0, int((end_date - start_date).total_seconds()))\n",
    "        )\n",
    "        dropoff_time = pickup_time + timedelta(minutes=random.randint(5, 60))\n",
    "\n",
    "        pickup_lat = round(random.uniform(40.6, 40.9), 6)\n",
    "        pickup_long = round(random.uniform(-74.05, -73.75), 6)\n",
    "        dropoff_lat = round(random.uniform(40.6, 40.9), 6)\n",
    "        dropoff_long = round(random.uniform(-74.05, -73.75), 6)\n",
    "\n",
    "        passenger_count = random.randint(1, 4)\n",
    "        trip_distance = round(random.uniform(1, 20), 2)\n",
    "\n",
    "        # 🚨 No fare_amount column (target variable we’ll predict later)\n",
    "        data.append([\n",
    "            pickup_time, dropoff_time, pickup_long, pickup_lat,\n",
    "            dropoff_long, dropoff_lat, passenger_count,\n",
    "            trip_distance\n",
    "        ])\n",
    "\n",
    "    return pd.DataFrame(data, columns=[\n",
    "        \"pickup_datetime\", \"dropoff_datetime\", \"pickup_longitude\", \"pickup_latitude\",\n",
    "        \"dropoff_longitude\", \"dropoff_latitude\", \"passenger_count\", \"trip_distance\"\n",
    "    ])\n",
    "\n",
    "# March dataset\n",
    "march_data = generate_march_data(datetime(2025,3,1), datetime(2025,3,31,23,59,59), n=300)\n",
    "\n",
    "# Save separately\n",
    "march_data.to_csv(\"/workspaces/mlops-trip-duration-prediction/DataSets/us_taxi_march.csv\", index=False)\n"
   ]
  },
  {
   "cell_type": "code",
   "execution_count": null,
   "id": "3481fa76",
   "metadata": {},
   "outputs": [],
   "source": []
  }
 ],
 "metadata": {
  "kernelspec": {
   "display_name": "Python 3 (ipykernel)",
   "language": "python",
   "name": "python3"
  },
  "language_info": {
   "codemirror_mode": {
    "name": "ipython",
    "version": 3
   },
   "file_extension": ".py",
   "mimetype": "text/x-python",
   "name": "python",
   "nbconvert_exporter": "python",
   "pygments_lexer": "ipython3",
   "version": "3.12.1"
  }
 },
 "nbformat": 4,
 "nbformat_minor": 5
}
